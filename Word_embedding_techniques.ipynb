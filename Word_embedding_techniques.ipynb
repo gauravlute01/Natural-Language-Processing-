{
 "cells": [
  {
   "cell_type": "code",
   "execution_count": 1,
   "id": "47efaa4b",
   "metadata": {},
   "outputs": [],
   "source": [
    "#!pip install tensorflow-gpu\n",
    "#import warnings\n",
    "#warnings.filterwarnings(\"ignore\")"
   ]
  },
  {
   "cell_type": "code",
   "execution_count": 2,
   "id": "5308a9b5",
   "metadata": {},
   "outputs": [
    {
     "name": "stderr",
     "output_type": "stream",
     "text": [
      "2025-02-23 22:11:07.586061: E external/local_xla/xla/stream_executor/cuda/cuda_fft.cc:485] Unable to register cuFFT factory: Attempting to register factory for plugin cuFFT when one has already been registered\n",
      "2025-02-23 22:11:07.604711: E external/local_xla/xla/stream_executor/cuda/cuda_dnn.cc:8454] Unable to register cuDNN factory: Attempting to register factory for plugin cuDNN when one has already been registered\n",
      "2025-02-23 22:11:07.610334: E external/local_xla/xla/stream_executor/cuda/cuda_blas.cc:1452] Unable to register cuBLAS factory: Attempting to register factory for plugin cuBLAS when one has already been registered\n",
      "2025-02-23 22:11:07.623823: I tensorflow/core/platform/cpu_feature_guard.cc:210] This TensorFlow binary is optimized to use available CPU instructions in performance-critical operations.\n",
      "To enable the following instructions: AVX2 FMA, in other operations, rebuild TensorFlow with the appropriate compiler flags.\n",
      "2025-02-23 22:11:10.085703: W tensorflow/compiler/tf2tensorrt/utils/py_utils.cc:38] TF-TRT Warning: Could not find TensorRT\n"
     ]
    },
    {
     "name": "stdout",
     "output_type": "stream",
     "text": [
      "2.17.0\n"
     ]
    }
   ],
   "source": [
    "import tensorflow as tf \n",
    "print(tf.__version__)"
   ]
  },
  {
   "cell_type": "code",
   "execution_count": 3,
   "id": "d63bf489",
   "metadata": {},
   "outputs": [],
   "source": [
    "from tensorflow.keras.preprocessing.text import one_hot"
   ]
  },
  {
   "cell_type": "code",
   "execution_count": 4,
   "id": "ea8dacab",
   "metadata": {},
   "outputs": [],
   "source": [
    "## sentences \n",
    "sent = ['the glass of milk', 'the glass of juice', 'the cup of tea', 'I am good boy','I am a good developer', \n",
    "       'understand the meaning of word', 'your videos are good']"
   ]
  },
  {
   "cell_type": "code",
   "execution_count": 5,
   "id": "374d804c",
   "metadata": {},
   "outputs": [
    {
     "data": {
      "text/plain": [
       "['the glass of milk',\n",
       " 'the glass of juice',\n",
       " 'the cup of tea',\n",
       " 'I am good boy',\n",
       " 'I am a good developer',\n",
       " 'understand the meaning of word',\n",
       " 'your videos are good']"
      ]
     },
     "execution_count": 5,
     "metadata": {},
     "output_type": "execute_result"
    }
   ],
   "source": [
    "sent "
   ]
  },
  {
   "cell_type": "code",
   "execution_count": 6,
   "id": "d5279d52",
   "metadata": {},
   "outputs": [],
   "source": [
    "# vocabulary size \n",
    "voc_size = 500 "
   ]
  },
  {
   "cell_type": "code",
   "execution_count": 7,
   "id": "7ee9d7b9",
   "metadata": {},
   "outputs": [
    {
     "name": "stdout",
     "output_type": "stream",
     "text": [
      "[[121, 239, 185, 250], [121, 239, 185, 254], [121, 344, 185, 441], [380, 469, 97, 127], [380, 469, 107, 97, 142], [112, 121, 120, 185, 286], [467, 463, 356, 97]]\n"
     ]
    }
   ],
   "source": [
    "# One Hot encoding representation \n",
    "onehot_repr = [one_hot(words, voc_size) for words in sent]\n",
    "print(onehot_repr)"
   ]
  },
  {
   "cell_type": "code",
   "execution_count": 8,
   "id": "57c911ad",
   "metadata": {},
   "outputs": [],
   "source": [
    "# Word embedding Representation \n",
    "from tensorflow.keras.layers import Embedding\n",
    "from tensorflow.keras.preprocessing.sequence import pad_sequences\n",
    "from tensorflow.keras.models import Sequential "
   ]
  },
  {
   "cell_type": "code",
   "execution_count": 9,
   "id": "a698a30b",
   "metadata": {},
   "outputs": [],
   "source": [
    "import numpy as np "
   ]
  },
  {
   "cell_type": "code",
   "execution_count": 21,
   "id": "2bc06943",
   "metadata": {},
   "outputs": [],
   "source": [
    "# Pre paddings \n",
    "sent_length = 7 \n",
    "embedded_docs = pad_sequences(onehot_repr, padding='pre', maxlen=sent_length)"
   ]
  },
  {
   "cell_type": "code",
   "execution_count": 22,
   "id": "865a555f",
   "metadata": {},
   "outputs": [
    {
     "name": "stdout",
     "output_type": "stream",
     "text": [
      "(7, 7)\n",
      "[[  0   0   0 121 239 185 250]\n",
      " [  0   0   0 121 239 185 254]\n",
      " [  0   0   0 121 344 185 441]\n",
      " [  0   0   0 380 469  97 127]\n",
      " [  0   0 380 469 107  97 142]\n",
      " [  0   0 112 121 120 185 286]\n",
      " [  0   0   0 467 463 356  97]]\n"
     ]
    }
   ],
   "source": [
    "print(embedded_docs.shape)\n",
    "print(embedded_docs)"
   ]
  },
  {
   "cell_type": "code",
   "execution_count": 23,
   "id": "d0ca258a",
   "metadata": {},
   "outputs": [],
   "source": [
    "## 10 feature dimensions \n",
    "dim = 8"
   ]
  },
  {
   "cell_type": "code",
   "execution_count": 24,
   "id": "46c512b6",
   "metadata": {},
   "outputs": [
    {
     "name": "stderr",
     "output_type": "stream",
     "text": [
      "/nfs/cms/mtech23/lute.gaurav/.local/lib/python3.10/site-packages/keras/src/layers/core/embedding.py:90: UserWarning: Argument `input_length` is deprecated. Just remove it.\n",
      "  warnings.warn(\n"
     ]
    }
   ],
   "source": [
    "model=Sequential()\n",
    "model.add(Embedding(voc_size,10,input_length=sent_length))\n",
    "#model.add(Embedding(input_dim=voc_size, output_dim=10))\n",
    "model.compile(optimizer='adam',loss='mse')\n"
   ]
  },
  {
   "cell_type": "code",
   "execution_count": 25,
   "id": "999d67de",
   "metadata": {},
   "outputs": [
    {
     "data": {
      "text/html": [
       "<pre style=\"white-space:pre;overflow-x:auto;line-height:normal;font-family:Menlo,'DejaVu Sans Mono',consolas,'Courier New',monospace\"><span style=\"font-weight: bold\">Model: \"sequential_1\"</span>\n",
       "</pre>\n"
      ],
      "text/plain": [
       "\u001b[1mModel: \"sequential_1\"\u001b[0m\n"
      ]
     },
     "metadata": {},
     "output_type": "display_data"
    },
    {
     "data": {
      "text/html": [
       "<pre style=\"white-space:pre;overflow-x:auto;line-height:normal;font-family:Menlo,'DejaVu Sans Mono',consolas,'Courier New',monospace\">┏━━━━━━━━━━━━━━━━━━━━━━━━━━━━━━━━━┳━━━━━━━━━━━━━━━━━━━━━━━━┳━━━━━━━━━━━━━━━┓\n",
       "┃<span style=\"font-weight: bold\"> Layer (type)                    </span>┃<span style=\"font-weight: bold\"> Output Shape           </span>┃<span style=\"font-weight: bold\">       Param # </span>┃\n",
       "┡━━━━━━━━━━━━━━━━━━━━━━━━━━━━━━━━━╇━━━━━━━━━━━━━━━━━━━━━━━━╇━━━━━━━━━━━━━━━┩\n",
       "│ embedding_1 (<span style=\"color: #0087ff; text-decoration-color: #0087ff\">Embedding</span>)         │ ?                      │   <span style=\"color: #00af00; text-decoration-color: #00af00\">0</span> (unbuilt) │\n",
       "└─────────────────────────────────┴────────────────────────┴───────────────┘\n",
       "</pre>\n"
      ],
      "text/plain": [
       "┏━━━━━━━━━━━━━━━━━━━━━━━━━━━━━━━━━┳━━━━━━━━━━━━━━━━━━━━━━━━┳━━━━━━━━━━━━━━━┓\n",
       "┃\u001b[1m \u001b[0m\u001b[1mLayer (type)                   \u001b[0m\u001b[1m \u001b[0m┃\u001b[1m \u001b[0m\u001b[1mOutput Shape          \u001b[0m\u001b[1m \u001b[0m┃\u001b[1m \u001b[0m\u001b[1m      Param #\u001b[0m\u001b[1m \u001b[0m┃\n",
       "┡━━━━━━━━━━━━━━━━━━━━━━━━━━━━━━━━━╇━━━━━━━━━━━━━━━━━━━━━━━━╇━━━━━━━━━━━━━━━┩\n",
       "│ embedding_1 (\u001b[38;5;33mEmbedding\u001b[0m)         │ ?                      │   \u001b[38;5;34m0\u001b[0m (unbuilt) │\n",
       "└─────────────────────────────────┴────────────────────────┴───────────────┘\n"
      ]
     },
     "metadata": {},
     "output_type": "display_data"
    },
    {
     "data": {
      "text/html": [
       "<pre style=\"white-space:pre;overflow-x:auto;line-height:normal;font-family:Menlo,'DejaVu Sans Mono',consolas,'Courier New',monospace\"><span style=\"font-weight: bold\"> Total params: </span><span style=\"color: #00af00; text-decoration-color: #00af00\">0</span> (0.00 B)\n",
       "</pre>\n"
      ],
      "text/plain": [
       "\u001b[1m Total params: \u001b[0m\u001b[38;5;34m0\u001b[0m (0.00 B)\n"
      ]
     },
     "metadata": {},
     "output_type": "display_data"
    },
    {
     "data": {
      "text/html": [
       "<pre style=\"white-space:pre;overflow-x:auto;line-height:normal;font-family:Menlo,'DejaVu Sans Mono',consolas,'Courier New',monospace\"><span style=\"font-weight: bold\"> Trainable params: </span><span style=\"color: #00af00; text-decoration-color: #00af00\">0</span> (0.00 B)\n",
       "</pre>\n"
      ],
      "text/plain": [
       "\u001b[1m Trainable params: \u001b[0m\u001b[38;5;34m0\u001b[0m (0.00 B)\n"
      ]
     },
     "metadata": {},
     "output_type": "display_data"
    },
    {
     "data": {
      "text/html": [
       "<pre style=\"white-space:pre;overflow-x:auto;line-height:normal;font-family:Menlo,'DejaVu Sans Mono',consolas,'Courier New',monospace\"><span style=\"font-weight: bold\"> Non-trainable params: </span><span style=\"color: #00af00; text-decoration-color: #00af00\">0</span> (0.00 B)\n",
       "</pre>\n"
      ],
      "text/plain": [
       "\u001b[1m Non-trainable params: \u001b[0m\u001b[38;5;34m0\u001b[0m (0.00 B)\n"
      ]
     },
     "metadata": {},
     "output_type": "display_data"
    }
   ],
   "source": [
    "#model.build(input_shape=(None, sent_length))\n",
    "model.summary()"
   ]
  },
  {
   "cell_type": "code",
   "execution_count": 26,
   "id": "68f63c22",
   "metadata": {},
   "outputs": [
    {
     "data": {
      "text/plain": [
       "array([  0,   0,   0, 121, 239, 185, 250], dtype=int32)"
      ]
     },
     "execution_count": 26,
     "metadata": {},
     "output_type": "execute_result"
    }
   ],
   "source": [
    "## the glass of milk \n",
    "embedded_docs[0]"
   ]
  },
  {
   "cell_type": "code",
   "execution_count": 27,
   "id": "27fae7e7",
   "metadata": {},
   "outputs": [
    {
     "name": "stdout",
     "output_type": "stream",
     "text": [
      "\u001b[1m1/1\u001b[0m \u001b[32m━━━━━━━━━━━━━━━━━━━━\u001b[0m\u001b[37m\u001b[0m \u001b[1m0s\u001b[0m 72ms/step\n"
     ]
    },
    {
     "data": {
      "text/plain": [
       "array([[ 0.04172588,  0.0048405 , -0.00235168, -0.02129643,  0.01162703,\n",
       "        -0.01159205,  0.00973871, -0.01873662,  0.00043304,  0.02084306],\n",
       "       [ 0.04172588,  0.0048405 , -0.00235168, -0.02129643,  0.01162703,\n",
       "        -0.01159205,  0.00973871, -0.01873662,  0.00043304,  0.02084306],\n",
       "       [ 0.04172588,  0.0048405 , -0.00235168, -0.02129643,  0.01162703,\n",
       "        -0.01159205,  0.00973871, -0.01873662,  0.00043304,  0.02084306],\n",
       "       [-0.02086743,  0.04121098, -0.04819726, -0.01867306,  0.00362615,\n",
       "        -0.04706925, -0.03109208,  0.0478411 , -0.00485798, -0.04634355],\n",
       "       [-0.02462319,  0.04119672,  0.02620644, -0.0235812 , -0.02261945,\n",
       "         0.03324081,  0.02540464, -0.04252223, -0.01911665,  0.04778722],\n",
       "       [-0.00758795, -0.00599672, -0.03042514, -0.00130515, -0.0373156 ,\n",
       "         0.04796232,  0.02755426, -0.01876959, -0.00225281, -0.04783616],\n",
       "       [-0.01216642, -0.04756131,  0.04121746, -0.00610895,  0.03401281,\n",
       "         0.03472355, -0.0349969 , -0.01400433, -0.03809015,  0.00035369]],\n",
       "      dtype=float32)"
      ]
     },
     "execution_count": 27,
     "metadata": {},
     "output_type": "execute_result"
    }
   ],
   "source": [
    "model.predict(embedded_docs[0])"
   ]
  },
  {
   "cell_type": "code",
   "execution_count": 28,
   "id": "70a14ec0",
   "metadata": {},
   "outputs": [
    {
     "name": "stdout",
     "output_type": "stream",
     "text": [
      "(7, 7)\n"
     ]
    }
   ],
   "source": [
    "print(embedded_docs.shape)\n"
   ]
  },
  {
   "cell_type": "code",
   "execution_count": 33,
   "id": "07e2587e",
   "metadata": {},
   "outputs": [
    {
     "name": "stdout",
     "output_type": "stream",
     "text": [
      "Final Shape for Prediction: (7, 7)\n",
      "\u001b[1m1/1\u001b[0m \u001b[32m━━━━━━━━━━━━━━━━━━━━\u001b[0m\u001b[37m\u001b[0m \u001b[1m0s\u001b[0m 15ms/step\n",
      "[[[ 0.00993454 -0.04581786  0.04806477 -0.04189986 -0.03700905\n",
      "    0.03824917  0.02078705  0.0065341   0.00269305 -0.00790707]\n",
      "  [ 0.00993454 -0.04581786  0.04806477 -0.04189986 -0.03700905\n",
      "    0.03824917  0.02078705  0.0065341   0.00269305 -0.00790707]\n",
      "  [ 0.00993454 -0.04581786  0.04806477 -0.04189986 -0.03700905\n",
      "    0.03824917  0.02078705  0.0065341   0.00269305 -0.00790707]\n",
      "  [-0.04750485 -0.01232783 -0.01737478  0.01961798  0.01323592\n",
      "    0.0431595   0.01690927 -0.04283195 -0.01552646  0.00680237]\n",
      "  [ 0.00221919 -0.0222248   0.04513028  0.00037787 -0.03871163\n",
      "    0.04953713 -0.04122846  0.02239246 -0.01105083 -0.03169863]\n",
      "  [ 0.00792401 -0.03404925  0.00553865  0.00904072 -0.00644469\n",
      "    0.01307651 -0.0486964   0.04187579  0.00228802  0.00252291]\n",
      "  [ 0.03965667 -0.01503011 -0.00933828  0.02365159 -0.00878169\n",
      "    0.04281202 -0.02665956  0.0376229  -0.04404181  0.00601032]]\n",
      "\n",
      " [[ 0.00993454 -0.04581786  0.04806477 -0.04189986 -0.03700905\n",
      "    0.03824917  0.02078705  0.0065341   0.00269305 -0.00790707]\n",
      "  [ 0.00993454 -0.04581786  0.04806477 -0.04189986 -0.03700905\n",
      "    0.03824917  0.02078705  0.0065341   0.00269305 -0.00790707]\n",
      "  [ 0.00993454 -0.04581786  0.04806477 -0.04189986 -0.03700905\n",
      "    0.03824917  0.02078705  0.0065341   0.00269305 -0.00790707]\n",
      "  [-0.04750485 -0.01232783 -0.01737478  0.01961798  0.01323592\n",
      "    0.0431595   0.01690927 -0.04283195 -0.01552646  0.00680237]\n",
      "  [ 0.00221919 -0.0222248   0.04513028  0.00037787 -0.03871163\n",
      "    0.04953713 -0.04122846  0.02239246 -0.01105083 -0.03169863]\n",
      "  [ 0.00792401 -0.03404925  0.00553865  0.00904072 -0.00644469\n",
      "    0.01307651 -0.0486964   0.04187579  0.00228802  0.00252291]\n",
      "  [ 0.01445177  0.02412433 -0.04023007  0.04847952  0.03848435\n",
      "   -0.01420177  0.04037026  0.02589707 -0.01214705 -0.00193219]]\n",
      "\n",
      " [[ 0.00993454 -0.04581786  0.04806477 -0.04189986 -0.03700905\n",
      "    0.03824917  0.02078705  0.0065341   0.00269305 -0.00790707]\n",
      "  [ 0.00993454 -0.04581786  0.04806477 -0.04189986 -0.03700905\n",
      "    0.03824917  0.02078705  0.0065341   0.00269305 -0.00790707]\n",
      "  [ 0.00993454 -0.04581786  0.04806477 -0.04189986 -0.03700905\n",
      "    0.03824917  0.02078705  0.0065341   0.00269305 -0.00790707]\n",
      "  [-0.04750485 -0.01232783 -0.01737478  0.01961798  0.01323592\n",
      "    0.0431595   0.01690927 -0.04283195 -0.01552646  0.00680237]\n",
      "  [ 0.04791932  0.04852815  0.04335182  0.04978856  0.04369273\n",
      "   -0.02512759 -0.03644736 -0.04624307 -0.01040151 -0.0346467 ]\n",
      "  [ 0.00792401 -0.03404925  0.00553865  0.00904072 -0.00644469\n",
      "    0.01307651 -0.0486964   0.04187579  0.00228802  0.00252291]\n",
      "  [ 0.00777987 -0.00512822 -0.02428976 -0.01619768 -0.04903814\n",
      "    0.02562164 -0.02877831  0.01779838 -0.03960682  0.03262038]]\n",
      "\n",
      " [[ 0.00993454 -0.04581786  0.04806477 -0.04189986 -0.03700905\n",
      "    0.03824917  0.02078705  0.0065341   0.00269305 -0.00790707]\n",
      "  [ 0.00993454 -0.04581786  0.04806477 -0.04189986 -0.03700905\n",
      "    0.03824917  0.02078705  0.0065341   0.00269305 -0.00790707]\n",
      "  [ 0.00993454 -0.04581786  0.04806477 -0.04189986 -0.03700905\n",
      "    0.03824917  0.02078705  0.0065341   0.00269305 -0.00790707]\n",
      "  [-0.01929152 -0.02310425 -0.00235667 -0.04554367  0.04611642\n",
      "    0.01064885  0.00813621  0.01663688  0.04403699  0.00783277]\n",
      "  [-0.04251971 -0.04838547 -0.0017942  -0.02297078 -0.00921721\n",
      "    0.00772566 -0.02126057  0.02811427 -0.01782123  0.01026095]\n",
      "  [ 0.02601918 -0.0182854  -0.00746782  0.03826905  0.02229294\n",
      "    0.00445379  0.00589621  0.00541627 -0.00501912  0.01939577]\n",
      "  [ 0.0383831   0.04041216 -0.04820844  0.01428929 -0.02107807\n",
      "    0.01786942  0.01643435 -0.01359496  0.02546462 -0.04168653]]\n",
      "\n",
      " [[ 0.00993454 -0.04581786  0.04806477 -0.04189986 -0.03700905\n",
      "    0.03824917  0.02078705  0.0065341   0.00269305 -0.00790707]\n",
      "  [ 0.00993454 -0.04581786  0.04806477 -0.04189986 -0.03700905\n",
      "    0.03824917  0.02078705  0.0065341   0.00269305 -0.00790707]\n",
      "  [-0.01929152 -0.02310425 -0.00235667 -0.04554367  0.04611642\n",
      "    0.01064885  0.00813621  0.01663688  0.04403699  0.00783277]\n",
      "  [-0.04251971 -0.04838547 -0.0017942  -0.02297078 -0.00921721\n",
      "    0.00772566 -0.02126057  0.02811427 -0.01782123  0.01026095]\n",
      "  [ 0.00622556  0.04845862  0.021504   -0.0380612  -0.02194445\n",
      "    0.02776353 -0.01078646 -0.03476763 -0.03388405  0.04692055]\n",
      "  [ 0.02601918 -0.0182854  -0.00746782  0.03826905  0.02229294\n",
      "    0.00445379  0.00589621  0.00541627 -0.00501912  0.01939577]\n",
      "  [ 0.04464011  0.02532698  0.03740493 -0.02655717 -0.01230762\n",
      "   -0.04317296  0.04891075  0.02022219 -0.04419557 -0.00456481]]\n",
      "\n",
      " [[ 0.00993454 -0.04581786  0.04806477 -0.04189986 -0.03700905\n",
      "    0.03824917  0.02078705  0.0065341   0.00269305 -0.00790707]\n",
      "  [ 0.00993454 -0.04581786  0.04806477 -0.04189986 -0.03700905\n",
      "    0.03824917  0.02078705  0.0065341   0.00269305 -0.00790707]\n",
      "  [-0.00789928 -0.02000045 -0.01063776  0.02108339 -0.04246159\n",
      "   -0.02872777  0.0365075  -0.01986256  0.04791586 -0.01077945]\n",
      "  [-0.04750485 -0.01232783 -0.01737478  0.01961798  0.01323592\n",
      "    0.0431595   0.01690927 -0.04283195 -0.01552646  0.00680237]\n",
      "  [-0.02443856 -0.02976676  0.00584663  0.04625708  0.03538482\n",
      "   -0.03087963 -0.04380044  0.00541494  0.04149253 -0.00280801]\n",
      "  [ 0.00792401 -0.03404925  0.00553865  0.00904072 -0.00644469\n",
      "    0.01307651 -0.0486964   0.04187579  0.00228802  0.00252291]\n",
      "  [-0.0298169  -0.0032146   0.03923449  0.01584155 -0.03787799\n",
      "   -0.02567101 -0.02185901  0.00566234 -0.0487439  -0.04425821]]\n",
      "\n",
      " [[ 0.00993454 -0.04581786  0.04806477 -0.04189986 -0.03700905\n",
      "    0.03824917  0.02078705  0.0065341   0.00269305 -0.00790707]\n",
      "  [ 0.00993454 -0.04581786  0.04806477 -0.04189986 -0.03700905\n",
      "    0.03824917  0.02078705  0.0065341   0.00269305 -0.00790707]\n",
      "  [ 0.00993454 -0.04581786  0.04806477 -0.04189986 -0.03700905\n",
      "    0.03824917  0.02078705  0.0065341   0.00269305 -0.00790707]\n",
      "  [ 0.00016344  0.0026963  -0.00655624  0.01019535 -0.0100707\n",
      "    0.01032641 -0.02415581  0.04287361 -0.028642   -0.04274363]\n",
      "  [-0.03656314 -0.03095447  0.0393619  -0.03413053 -0.02394258\n",
      "    0.04493463 -0.00784076 -0.0465295   0.0114944   0.04432423]\n",
      "  [-0.02996912 -0.04194288 -0.03140848 -0.0274117   0.04065936\n",
      "   -0.01689981  0.00573946  0.04169362 -0.00191617  0.03616017]\n",
      "  [ 0.02601918 -0.0182854  -0.00746782  0.03826905  0.02229294\n",
      "    0.00445379  0.00589621  0.00541627 -0.00501912  0.01939577]]]\n"
     ]
    }
   ],
   "source": [
    "embedded_docs = np.array(embedded_docs)  # Ensure NumPy array\n",
    "print(\"Final Shape for Prediction:\", embedded_docs.shape) \n",
    "print(model.predict(embedded_docs))"
   ]
  },
  {
   "cell_type": "code",
   "execution_count": 34,
   "id": "e70488f1",
   "metadata": {},
   "outputs": [
    {
     "data": {
      "text/plain": [
       "array([  0,   0,   0, 121, 239, 185, 250], dtype=int32)"
      ]
     },
     "execution_count": 34,
     "metadata": {},
     "output_type": "execute_result"
    }
   ],
   "source": [
    "embedded_docs[0]"
   ]
  },
  {
   "cell_type": "code",
   "execution_count": 35,
   "id": "6e90befd",
   "metadata": {},
   "outputs": [
    {
     "name": "stdout",
     "output_type": "stream",
     "text": [
      "\u001b[1m1/1\u001b[0m \u001b[32m━━━━━━━━━━━━━━━━━━━━\u001b[0m\u001b[37m\u001b[0m \u001b[1m0s\u001b[0m 16ms/step\n",
      "[[ 0.00993454 -0.04581786  0.04806477 -0.04189986 -0.03700905  0.03824917\n",
      "   0.02078705  0.0065341   0.00269305 -0.00790707]\n",
      " [ 0.00993454 -0.04581786  0.04806477 -0.04189986 -0.03700905  0.03824917\n",
      "   0.02078705  0.0065341   0.00269305 -0.00790707]\n",
      " [ 0.00993454 -0.04581786  0.04806477 -0.04189986 -0.03700905  0.03824917\n",
      "   0.02078705  0.0065341   0.00269305 -0.00790707]\n",
      " [-0.04750485 -0.01232783 -0.01737478  0.01961798  0.01323592  0.0431595\n",
      "   0.01690927 -0.04283195 -0.01552646  0.00680237]\n",
      " [ 0.00221919 -0.0222248   0.04513028  0.00037787 -0.03871163  0.04953713\n",
      "  -0.04122846  0.02239246 -0.01105083 -0.03169863]\n",
      " [ 0.00792401 -0.03404925  0.00553865  0.00904072 -0.00644469  0.01307651\n",
      "  -0.0486964   0.04187579  0.00228802  0.00252291]\n",
      " [ 0.03965667 -0.01503011 -0.00933828  0.02365159 -0.00878169  0.04281202\n",
      "  -0.02665956  0.0376229  -0.04404181  0.00601032]]\n"
     ]
    }
   ],
   "source": [
    "print(model.predict(embedded_docs)[0])"
   ]
  },
  {
   "cell_type": "markdown",
   "id": "f4b62031",
   "metadata": {},
   "source": [
    "- The inner list represents the embeddings vector for a words.\n",
    "- Values close to 0 --> Word is less important a single word in a learned space.\n",
    "- Positive/Negative values --> Indicates different relationships in vector space."
   ]
  }
 ],
 "metadata": {
  "kernelspec": {
   "display_name": "Python (myenv)",
   "language": "python",
   "name": "myenv"
  },
  "language_info": {
   "codemirror_mode": {
    "name": "ipython",
    "version": 3
   },
   "file_extension": ".py",
   "mimetype": "text/x-python",
   "name": "python",
   "nbconvert_exporter": "python",
   "pygments_lexer": "ipython3",
   "version": "3.10.16"
  }
 },
 "nbformat": 4,
 "nbformat_minor": 5
}
