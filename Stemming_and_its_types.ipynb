{
 "cells": [
  {
   "cell_type": "markdown",
   "id": "1269fb04",
   "metadata": {},
   "source": [
    "## Stemming\n",
    "Stemming is the process of reducing a word stem that affixes to suffixes and preffixes or to the root of word \n",
    "konown as lemma. Stemming in natural language Understanding(NLU) and Natural Language processing(NLP)."
   ]
  },
  {
   "cell_type": "code",
   "execution_count": 2,
   "id": "81d0661d",
   "metadata": {},
   "outputs": [],
   "source": [
    "# classification Problem \n",
    "# Comments of products is a positive review or negative review \n",
    "# Reviews --> eatings, eat, eaten, [going,gone, goes]"
   ]
  },
  {
   "cell_type": "code",
   "execution_count": 1,
   "id": "80fd5df0",
   "metadata": {},
   "outputs": [],
   "source": [
    "words = ['eating', 'eats', 'eaten','writing', 'writes', 'programming', 'programs', 'history', 'finally', 'finalized']\n"
   ]
  },
  {
   "cell_type": "markdown",
   "id": "f6d10bf8",
   "metadata": {},
   "source": [
    "## PorterStemmer"
   ]
  },
  {
   "cell_type": "code",
   "execution_count": 3,
   "id": "3ceb72ca",
   "metadata": {},
   "outputs": [],
   "source": [
    "from nltk.stem import PorterStemmer"
   ]
  },
  {
   "cell_type": "code",
   "execution_count": 4,
   "id": "f79d3173",
   "metadata": {},
   "outputs": [],
   "source": [
    "stemming = PorterStemmer()"
   ]
  },
  {
   "cell_type": "code",
   "execution_count": 5,
   "id": "1ab151a9",
   "metadata": {},
   "outputs": [
    {
     "name": "stdout",
     "output_type": "stream",
     "text": [
      "eating---> +eat\n",
      "eats---> +eat\n",
      "eaten---> +eaten\n",
      "writing---> +write\n",
      "writes---> +write\n",
      "programming---> +program\n",
      "programs---> +program\n",
      "history---> +histori\n",
      "finally---> +final\n",
      "finalized---> +final\n"
     ]
    }
   ],
   "source": [
    "for word in words:\n",
    "    print(word+\"---> +\"+stemming.stem(word))"
   ]
  },
  {
   "cell_type": "code",
   "execution_count": 6,
   "id": "b1e13b9d",
   "metadata": {},
   "outputs": [
    {
     "data": {
      "text/plain": [
       "'congratul'"
      ]
     },
     "execution_count": 6,
     "metadata": {},
     "output_type": "execute_result"
    }
   ],
   "source": [
    "stemming.stem('congratulations')"
   ]
  },
  {
   "cell_type": "code",
   "execution_count": 7,
   "id": "d1099d44",
   "metadata": {},
   "outputs": [
    {
     "data": {
      "text/plain": [
       "'set'"
      ]
     },
     "execution_count": 7,
     "metadata": {},
     "output_type": "execute_result"
    }
   ],
   "source": [
    "stemming.stem('settings')"
   ]
  },
  {
   "cell_type": "markdown",
   "id": "9c1fbcf9",
   "metadata": {},
   "source": [
    "## Regersstemmer Class\n",
    "NLTK has RegexStemmer class with the help of which easily impliment Regular Expression Stemmer algorithm. It \n",
    "basically takes a single regular expressions and removes any prefix or suffix that matches the expression. Let us see an examples."
   ]
  },
  {
   "cell_type": "code",
   "execution_count": 8,
   "id": "ecfe1a53",
   "metadata": {},
   "outputs": [],
   "source": [
    "from nltk.stem import RegexpStemmer"
   ]
  },
  {
   "cell_type": "code",
   "execution_count": 12,
   "id": "75e78e89",
   "metadata": {},
   "outputs": [],
   "source": [
    "reg_stemmer = RegexpStemmer('ing$| s$ | e$ | able$', min=4)"
   ]
  },
  {
   "cell_type": "code",
   "execution_count": 13,
   "id": "a123f4d2",
   "metadata": {},
   "outputs": [
    {
     "data": {
      "text/plain": [
       "'eat'"
      ]
     },
     "execution_count": 13,
     "metadata": {},
     "output_type": "execute_result"
    }
   ],
   "source": [
    "reg_stemmer.stem('eating')"
   ]
  },
  {
   "cell_type": "code",
   "execution_count": 14,
   "id": "650e1313",
   "metadata": {},
   "outputs": [
    {
     "data": {
      "text/plain": [
       "'ingeat'"
      ]
     },
     "execution_count": 14,
     "metadata": {},
     "output_type": "execute_result"
    }
   ],
   "source": [
    "reg_stemmer.stem('ingeating')"
   ]
  },
  {
   "cell_type": "markdown",
   "id": "6831e1b8",
   "metadata": {},
   "source": [
    "## Snowball Stemmer\n",
    "It is a stemming algorithm which is also known as the Porter2 Stemming algorithm as it is a better version of the Poster Stemmer since issues of it were in this stemmer."
   ]
  },
  {
   "cell_type": "code",
   "execution_count": 15,
   "id": "74c2fce3",
   "metadata": {},
   "outputs": [],
   "source": [
    "from nltk.stem import SnowballStemmer"
   ]
  },
  {
   "cell_type": "code",
   "execution_count": 16,
   "id": "52f0e5f5",
   "metadata": {},
   "outputs": [],
   "source": [
    "snowballsstemmer = SnowballStemmer('english')"
   ]
  },
  {
   "cell_type": "code",
   "execution_count": 17,
   "id": "bf85ff1a",
   "metadata": {},
   "outputs": [
    {
     "data": {
      "text/plain": [
       "<nltk.stem.snowball.SnowballStemmer at 0x7d0d9eba91b0>"
      ]
     },
     "execution_count": 17,
     "metadata": {},
     "output_type": "execute_result"
    }
   ],
   "source": [
    "snowballsstemmer"
   ]
  },
  {
   "cell_type": "code",
   "execution_count": 18,
   "id": "06cb74d4",
   "metadata": {},
   "outputs": [
    {
     "name": "stdout",
     "output_type": "stream",
     "text": [
      "eating--->eat\n",
      "eats--->eat\n",
      "eaten--->eaten\n",
      "writing--->write\n",
      "writes--->write\n",
      "programming--->program\n",
      "programs--->program\n",
      "history--->histori\n",
      "finally--->final\n",
      "finalized--->final\n"
     ]
    }
   ],
   "source": [
    "for word in words:\n",
    "    print(word+\"--->\"+snowballsstemmer.stem(word))"
   ]
  },
  {
   "cell_type": "code",
   "execution_count": 19,
   "id": "38201648",
   "metadata": {},
   "outputs": [
    {
     "data": {
      "text/plain": [
       "('fairli', 'sportingli')"
      ]
     },
     "execution_count": 19,
     "metadata": {},
     "output_type": "execute_result"
    }
   ],
   "source": [
    "stemming.stem('fairly'),stemming.stem('sportingly')"
   ]
  },
  {
   "cell_type": "code",
   "execution_count": 20,
   "id": "5dfa420c",
   "metadata": {},
   "outputs": [
    {
     "data": {
      "text/plain": [
       "('fair', 'sport')"
      ]
     },
     "execution_count": 20,
     "metadata": {},
     "output_type": "execute_result"
    }
   ],
   "source": [
    "snowballsstemmer.stem('fairly'), snowballsstemmer.stem('sportingly')"
   ]
  },
  {
   "cell_type": "code",
   "execution_count": 21,
   "id": "f4a34862",
   "metadata": {},
   "outputs": [
    {
     "data": {
      "text/plain": [
       "'goe'"
      ]
     },
     "execution_count": 21,
     "metadata": {},
     "output_type": "execute_result"
    }
   ],
   "source": [
    "snowballsstemmer.stem('goes')"
   ]
  },
  {
   "cell_type": "code",
   "execution_count": 22,
   "id": "7ce442cd",
   "metadata": {},
   "outputs": [
    {
     "data": {
      "text/plain": [
       "'accord'"
      ]
     },
     "execution_count": 22,
     "metadata": {},
     "output_type": "execute_result"
    }
   ],
   "source": [
    "snowballsstemmer.stem('accordingly')"
   ]
  }
 ],
 "metadata": {
  "kernelspec": {
   "display_name": "Python (myenv)",
   "language": "python",
   "name": "myenv"
  },
  "language_info": {
   "codemirror_mode": {
    "name": "ipython",
    "version": 3
   },
   "file_extension": ".py",
   "mimetype": "text/x-python",
   "name": "python",
   "nbconvert_exporter": "python",
   "pygments_lexer": "ipython3",
   "version": "3.10.16"
  }
 },
 "nbformat": 4,
 "nbformat_minor": 5
}
